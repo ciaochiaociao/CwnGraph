{
 "cells": [
  {
   "cell_type": "markdown",
   "metadata": {},
   "source": [
    "# Cwn Graph Query"
   ]
  },
  {
   "cell_type": "code",
   "execution_count": 1,
   "metadata": {},
   "outputs": [],
   "source": [
    "%load_ext autoreload\n",
    "%autoreload 2"
   ]
  },
  {
   "cell_type": "code",
   "execution_count": 2,
   "metadata": {},
   "outputs": [],
   "source": [
    "import pickle\n",
    "from CwnGraph import CwnBase, CwnAnnotator\n",
    "from CwnGraph import CwnRelationType"
   ]
  },
  {
   "cell_type": "code",
   "execution_count": 3,
   "metadata": {},
   "outputs": [],
   "source": [
    "cwn = CwnBase(\"data/cwn_graph.pyobj\")"
   ]
  },
  {
   "cell_type": "markdown",
   "metadata": {},
   "source": [
    "## Basic Query"
   ]
  },
  {
   "cell_type": "code",
   "execution_count": 4,
   "metadata": {},
   "outputs": [
    {
     "name": "stdout",
     "output_type": "stream",
     "text": [
      "[<CwnLemma: 電腦_1>, <CwnLemma: 電腦化_1>]\n"
     ]
    }
   ],
   "source": [
    "lemmas = cwn.find_lemma(\"電腦\")\n",
    "print(lemmas)"
   ]
  },
  {
   "cell_type": "code",
   "execution_count": 5,
   "metadata": {},
   "outputs": [
    {
     "name": "stdout",
     "output_type": "stream",
     "text": [
      "[<CwnSense[06613601](電腦): 一種資料處理裝置，能自動接受並儲存、處理輸入的資料，然後經由一組預先存放在機器內的指令逐步引導下產生輸出結果。>, <CwnSense[06613602](電腦): 研究或操作電腦的知識。>, <CwnSense[06613603](電腦): 比喻計算或記憶能力很強的人。>]\n"
     ]
    }
   ],
   "source": [
    "lemma0 = lemmas[0]\n",
    "senses = lemma0.senses\n",
    "print(senses)"
   ]
  },
  {
   "cell_type": "code",
   "execution_count": 6,
   "metadata": {},
   "outputs": [
    {
     "name": "stdout",
     "output_type": "stream",
     "text": [
      "<CwnSense[06613601](電腦): 一種資料處理裝置，能自動接受並儲存、處理輸入的資料，然後經由一組預先存放在機器內的指令逐步引導下產生輸出結果。>\n",
      "[('has_facet', <CwnSense[06613601](電腦): 一種資料處理裝置，能自動接受並儲存、處理輸入的資料，然後經由一組預先存放在機器內的指令逐步引導下產生輸出結果。>), ('hypernym', <CwnSense[06582901](工具): 工作時必須使用的具有特定功能的器具。>), ('has_facet(rev)', <CwnSense[06613601](電腦): 一種資料處理裝置，能自動接受並儲存、處理輸入的資料，然後經由一組預先存放在機器內的指令逐步引導下產生輸出結果。>), ('hyponym(rev)', <CwnSense[06582901](工具): 工作時必須使用的具有特定功能的器具。>)]\n",
      "--\n",
      "<CwnSense[06613602](電腦): 研究或操作電腦的知識。>\n",
      "[]\n",
      "--\n",
      "<CwnSense[06613603](電腦): 比喻計算或記憶能力很強的人。>\n",
      "[]\n",
      "--\n"
     ]
    }
   ],
   "source": [
    "for sense_x in senses:\n",
    "    print(sense_x)\n",
    "    print(sense_x.relations)\n",
    "    print(\"--\")"
   ]
  },
  {
   "cell_type": "code",
   "execution_count": 7,
   "metadata": {},
   "outputs": [
    {
     "data": {
      "text/plain": [
       "{'node_type': 'sense',\n",
       " 'pos': 'Na',\n",
       " 'examples': ['小朋友都覺得放假好煩，比上學更累，他們要學<電腦>，上補習班。\\r\\n',\n",
       "  '這樣規定豈不是加重學生的負擔？還不如學<電腦>或英文更有實效。\\r\\n',\n",
       "  '陶公我在高一時就認為他<電腦>超強的，但是現在我認為muscle你也不差。\\r\\n'],\n",
       " 'annot': {},\n",
       " 'def': '研究或操作電腦的知識。'}"
      ]
     },
     "execution_count": 7,
     "metadata": {},
     "output_type": "execute_result"
    }
   ],
   "source": [
    "senses[1].data()"
   ]
  },
  {
   "cell_type": "markdown",
   "metadata": {},
   "source": [
    "## Annotation"
   ]
  },
  {
   "cell_type": "code",
   "execution_count": 8,
   "metadata": {},
   "outputs": [],
   "source": [
    "annot = CwnAnnotator(cwn, \"seantyh_test\")"
   ]
  },
  {
   "cell_type": "code",
   "execution_count": 9,
   "metadata": {},
   "outputs": [
    {
     "data": {
      "text/plain": [
       "<CwnLemma: 平板_1>"
      ]
     },
     "execution_count": 9,
     "metadata": {},
     "output_type": "execute_result"
    }
   ],
   "source": [
    "my_lemma = annot.create_lemma(\"平板\")\n",
    "my_lemma"
   ]
  },
  {
   "cell_type": "code",
   "execution_count": 10,
   "metadata": {},
   "outputs": [],
   "source": [
    "my_lemma.zhuyin = \"ㄆㄧㄥˊ ㄅㄢˇ\"\n",
    "annot.set_lemma(my_lemma)"
   ]
  },
  {
   "cell_type": "code",
   "execution_count": 11,
   "metadata": {},
   "outputs": [],
   "source": [
    "my_sense = annot.create_sense(\"一種具有平面螢幕且易攜帶的的電腦裝置\")"
   ]
  },
  {
   "cell_type": "code",
   "execution_count": 12,
   "metadata": {},
   "outputs": [
    {
     "data": {
      "text/plain": [
       "<CwnSense[seantyh_test_000002](----): 一種具有平面螢幕且易攜帶的的電腦裝置>"
      ]
     },
     "execution_count": 12,
     "metadata": {},
     "output_type": "execute_result"
    }
   ],
   "source": [
    "my_sense"
   ]
  },
  {
   "cell_type": "code",
   "execution_count": 13,
   "metadata": {},
   "outputs": [],
   "source": [
    "my_sense.pos = \"N\"\n",
    "my_sense.examples = [\"蘋果在發表會上推出了新的<平板>。\"]\n",
    "annot.set_sense(my_sense)"
   ]
  },
  {
   "cell_type": "code",
   "execution_count": 14,
   "metadata": {},
   "outputs": [
    {
     "data": {
      "text/plain": [
       "{'seantyh_test_000001': {'node_type': 'lemma',\n",
       "  'lemma': '平板',\n",
       "  'lemma_sno': 1,\n",
       "  'zhuyin': 'ㄆㄧㄥˊ ㄅㄢˇ',\n",
       "  'annot': {}},\n",
       " 'seantyh_test_000002': {'node_type': 'sense',\n",
       "  'pos': 'N',\n",
       "  'examples': ['蘋果在發表會上推出了新的<平板>。'],\n",
       "  'annot': {},\n",
       "  'def': '一種具有平面螢幕且易攜帶的的電腦裝置'}}"
      ]
     },
     "execution_count": 14,
     "metadata": {},
     "output_type": "execute_result"
    }
   ],
   "source": [
    "annot.V"
   ]
  },
  {
   "cell_type": "code",
   "execution_count": 15,
   "metadata": {},
   "outputs": [
    {
     "name": "stdout",
     "output_type": "stream",
     "text": [
      "<CwnRelation> hyponym: 06613601 -> seantyh_test_000002 <CwnRelation> hypernym: seantyh_test_000002 -> 06613601\n"
     ]
    }
   ],
   "source": [
    "# create_relation(src_id, tgt_id, rel_type)\n",
    "rel1 = annot.create_relation(senses[0].id, my_sense.id, CwnRelationType.hyponym)\n",
    "rel2 = annot.create_relation(my_sense.id, senses[0].id, CwnRelationType.hypernym)\n",
    "print(rel1, rel2)\n",
    "tablet_has_sense = annot.create_relation(my_lemma.id, my_sense.id, CwnRelationType.has_sense)"
   ]
  },
  {
   "cell_type": "code",
   "execution_count": 16,
   "metadata": {},
   "outputs": [
    {
     "data": {
      "text/plain": [
       "{('06613601', 'seantyh_test_000002'): {'edge_type': 'hyponym', 'annot': {}},\n",
       " ('seantyh_test_000002', '06613601'): {'edge_type': 'hypernym', 'annot': {}},\n",
       " ('seantyh_test_000001', 'seantyh_test_000002'): {'edge_type': 'has_sense',\n",
       "  'annot': {}}}"
      ]
     },
     "execution_count": 16,
     "metadata": {},
     "output_type": "execute_result"
    }
   ],
   "source": [
    "annot.E"
   ]
  },
  {
   "cell_type": "code",
   "execution_count": 17,
   "metadata": {},
   "outputs": [
    {
     "name": "stdout",
     "output_type": "stream",
     "text": [
      "<CwnSense[06613601](電腦): 一種資料處理裝置，能自動接受並儲存、處理輸入的資料，然後經由一組預先存放在機器內的指令逐步引導下產生輸出結果。>\n"
     ]
    }
   ],
   "source": [
    "computer0 = annot.find_lemmas(\"電腦\")[0]\n",
    "senses_computer = computer0.senses\n",
    "print(senses_computer[0])"
   ]
  },
  {
   "cell_type": "code",
   "execution_count": 18,
   "metadata": {},
   "outputs": [
    {
     "data": {
      "text/plain": [
       "[('hyponym', <CwnSense[seantyh_test_000002](平板): 一種具有平面螢幕且易攜帶的的電腦裝置>),\n",
       " ('hypernym(rev)', <CwnSense[seantyh_test_000002](平板): 一種具有平面螢幕且易攜帶的的電腦裝置>),\n",
       " ('has_facet',\n",
       "  <CwnSense[06613601](電腦): 一種資料處理裝置，能自動接受並儲存、處理輸入的資料，然後經由一組預先存放在機器內的指令逐步引導下產生輸出結果。>),\n",
       " ('hypernym', <CwnSense[06582901](工具): 工作時必須使用的具有特定功能的器具。>),\n",
       " ('has_facet(rev)',\n",
       "  <CwnSense[06613601](電腦): 一種資料處理裝置，能自動接受並儲存、處理輸入的資料，然後經由一組預先存放在機器內的指令逐步引導下產生輸出結果。>),\n",
       " ('hyponym(rev)', <CwnSense[06582901](工具): 工作時必須使用的具有特定功能的器具。>)]"
      ]
     },
     "execution_count": 18,
     "metadata": {},
     "output_type": "execute_result"
    }
   ],
   "source": [
    "senses_computer[0].relations"
   ]
  },
  {
   "cell_type": "code",
   "execution_count": 19,
   "metadata": {},
   "outputs": [
    {
     "data": {
      "text/plain": [
       "{'node_type': 'sense',\n",
       " 'pos': 'Na',\n",
       " 'examples': '',\n",
       " 'annot': {},\n",
       " 'def': '一種資料處理裝置，能自動接受並儲存、處理輸入的資料，然後經由一組預先存放在機器內的指令逐步引導下產生輸出結果。'}"
      ]
     },
     "execution_count": 19,
     "metadata": {},
     "output_type": "execute_result"
    }
   ],
   "source": [
    "senses[0].data()"
   ]
  },
  {
   "cell_type": "code",
   "execution_count": 20,
   "metadata": {},
   "outputs": [],
   "source": [
    "senses[0].examples = [\"大家學著使用<電腦>來處理資料。\"]"
   ]
  },
  {
   "cell_type": "code",
   "execution_count": 21,
   "metadata": {},
   "outputs": [
    {
     "data": {
      "text/plain": [
       "{'node_type': 'sense',\n",
       " 'pos': 'Na',\n",
       " 'examples': ['大家學著使用<電腦>來處理資料。'],\n",
       " 'annot': {},\n",
       " 'def': '一種資料處理裝置，能自動接受並儲存、處理輸入的資料，然後經由一組預先存放在機器內的指令逐步引導下產生輸出結果。'}"
      ]
     },
     "execution_count": 21,
     "metadata": {},
     "output_type": "execute_result"
    }
   ],
   "source": [
    "senses[0].data()"
   ]
  },
  {
   "cell_type": "code",
   "execution_count": 22,
   "metadata": {},
   "outputs": [],
   "source": [
    "annot.set_sense(senses[0])"
   ]
  },
  {
   "cell_type": "code",
   "execution_count": 23,
   "metadata": {},
   "outputs": [],
   "source": [
    "annot.save()"
   ]
  },
  {
   "cell_type": "markdown",
   "metadata": {},
   "source": [
    "## Load last session"
   ]
  },
  {
   "cell_type": "code",
   "execution_count": 24,
   "metadata": {},
   "outputs": [
    {
     "name": "stdout",
     "output_type": "stream",
     "text": [
      "<CwnSense[06613601](電腦): 一種資料處理裝置，能自動接受並儲存、處理輸入的資料，然後經由一組預先存放在機器內的指令逐步引導下產生輸出結果。>\n",
      "['大家學著使用<電腦>來處理資料。']\n",
      "[('hyponym', <CwnSense[seantyh_test_000002](平板): 一種具有平面螢幕且易攜帶的的電腦裝置>), ('hypernym(rev)', <CwnSense[seantyh_test_000002](平板): 一種具有平面螢幕且易攜帶的的電腦裝置>), ('has_facet', <CwnSense[06613601](電腦): 一種資料處理裝置，能自動接受並儲存、處理輸入的資料，然後經由一組預先存放在機器內的指令逐步引導下產生輸出結果。>), ('hypernym', <CwnSense[06582901](工具): 工作時必須使用的具有特定功能的器具。>), ('has_facet(rev)', <CwnSense[06613601](電腦): 一種資料處理裝置，能自動接受並儲存、處理輸入的資料，然後經由一組預先存放在機器內的指令逐步引導下產生輸出結果。>), ('hyponym(rev)', <CwnSense[06582901](工具): 工作時必須使用的具有特定功能的器具。>)]\n"
     ]
    }
   ],
   "source": [
    "annot2 = CwnAnnotator(cwn, \"seantyh_test\")\n",
    "computer0 = annot2.find_lemmas(\"電腦\")[0]\n",
    "senses_computer = computer0.senses\n",
    "print(senses_computer[0])\n",
    "print(senses_computer[0].examples)\n",
    "print(senses_computer[0].relations)"
   ]
  },
  {
   "cell_type": "code",
   "execution_count": null,
   "metadata": {},
   "outputs": [],
   "source": []
  }
 ],
 "metadata": {
  "kernelspec": {
   "display_name": "Python 3",
   "language": "python",
   "name": "python3"
  },
  "language_info": {
   "codemirror_mode": {
    "name": "ipython",
    "version": 3
   },
   "file_extension": ".py",
   "mimetype": "text/x-python",
   "name": "python",
   "nbconvert_exporter": "python",
   "pygments_lexer": "ipython3",
   "version": "3.7.2"
  }
 },
 "nbformat": 4,
 "nbformat_minor": 2
}
