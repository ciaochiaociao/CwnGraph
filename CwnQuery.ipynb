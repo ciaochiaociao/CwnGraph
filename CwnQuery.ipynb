{
 "cells": [
  {
   "cell_type": "markdown",
   "metadata": {},
   "source": [
    "# Cwn Graph Query"
   ]
  },
  {
   "cell_type": "code",
   "execution_count": 1,
   "metadata": {},
   "outputs": [],
   "source": [
    "%load_ext autoreload\n",
    "%autoreload 2"
   ]
  },
  {
   "cell_type": "code",
   "execution_count": 2,
   "metadata": {},
   "outputs": [],
   "source": [
    "import pickle\n",
    "from cwn_graph_utils import CwnGraphUtils"
   ]
  },
  {
   "cell_type": "code",
   "execution_count": 3,
   "metadata": {},
   "outputs": [],
   "source": [
    "with open(\"cwn_graph.pyobj\", \"rb\") as fin:\n",
    "    V, E = pickle.load(fin)\n",
    "cgu = CwnGraphUtils(V, E)"
   ]
  },
  {
   "cell_type": "code",
   "execution_count": 4,
   "metadata": {},
   "outputs": [
    {
     "name": "stdout",
     "output_type": "stream",
     "text": [
      "G6352\n"
     ]
    }
   ],
   "source": [
    "gid = cgu.find_glyph(\"田\")\n",
    "print(gid)"
   ]
  },
  {
   "cell_type": "code",
   "execution_count": 5,
   "metadata": {},
   "outputs": [
    {
     "name": "stdout",
     "output_type": "stream",
     "text": [
      "['060140', '071120', '071121']\n"
     ]
    }
   ],
   "source": [
    "lemmas = [x[0] for x in cgu.find_edges(gid)]\n",
    "print(lemmas)"
   ]
  },
  {
   "cell_type": "code",
   "execution_count": 7,
   "metadata": {},
   "outputs": [
    {
     "name": "stdout",
     "output_type": "stream",
     "text": [
      "['06014001', '06014002', '06014003', '06014004', '07112001', '07112101']\n"
     ]
    }
   ],
   "source": [
    "senses = [x[0] for lid in lemmas for x in cgu.find_edges(lid)]\n",
    "print(senses)"
   ]
  },
  {
   "cell_type": "code",
   "execution_count": 8,
   "metadata": {},
   "outputs": [
    {
     "name": "stdout",
     "output_type": "stream",
     "text": [
      "[('09300301', 'synonym')]\n"
     ]
    }
   ],
   "source": [
    "rel = cgu.find_edges(\"06014001\")\n",
    "print(rel)"
   ]
  },
  {
   "cell_type": "code",
   "execution_count": 10,
   "metadata": {},
   "outputs": [
    {
     "data": {
      "text/plain": [
       "[('06014001', 'synonym', '09300301')]"
      ]
     },
     "execution_count": 10,
     "metadata": {},
     "output_type": "execute_result"
    }
   ],
   "source": [
    "cgu.connected(\"06014001\")"
   ]
  },
  {
   "cell_type": "code",
   "execution_count": 10,
   "metadata": {},
   "outputs": [
    {
     "data": {
      "text/plain": [
       "[<CwnLemma: 春_2>, <CwnLemma: 春_1>, <CwnLemma: 春季_1>]"
      ]
     },
     "execution_count": 10,
     "metadata": {},
     "output_type": "execute_result"
    }
   ],
   "source": [
    "cgu.find_lemma(\"春\")"
   ]
  },
  {
   "cell_type": "code",
   "execution_count": 4,
   "metadata": {},
   "outputs": [
    {
     "data": {
      "text/plain": [
       "[<CwnSense[07029101]: 時間詞。一年四季中的第一季。>,\n",
       " <CwnSense[07029102]: 普通名詞。中國傳統慶祝農曆新年的期間。「春節」的簡省。>,\n",
       " <CwnSense[07029103]: 普通名詞。帶有性慾需求的強烈心理狀態。>,\n",
       " <CwnSense[07029104]: 普通名詞。比喻一次婚姻關係。>,\n",
       " <CwnSense[07029105]: 普通名詞。比喻事業的一個階段。>,\n",
       " <CwnSense[07029106]: 普通名詞。麻將中的牌面，為四種季牌之一。>]"
      ]
     },
     "execution_count": 4,
     "metadata": {},
     "output_type": "execute_result"
    }
   ],
   "source": [
    "spring1 = cgu.find_lemma(\"春\")[1]\n",
    "spring1.senses"
   ]
  },
  {
   "cell_type": "code",
   "execution_count": 6,
   "metadata": {},
   "outputs": [
    {
     "data": {
      "text/plain": [
       "[(('synonym', <CwnSense[09303901]: 時間詞。一年四季中的第一季。>), [<CwnLemma: 春季_1>]),\n",
       " (('synonym_of', <CwnSense[09303901]: 時間詞。一年四季中的第一季。>), [<CwnLemma: 春季_1>]),\n",
       " (('nearsynonym_of', <CwnSense[07032101]: 時間詞。一年四季中的第三季。>), [<CwnLemma: 秋_1>]),\n",
       " (('nearsynonym_of', <CwnSense[06015301]: 時間詞。一年四季中的第二季。>), [<CwnLemma: 夏_1>]),\n",
       " (('nearsynonym', <CwnSense[06015301]: 時間詞。一年四季中的第二季。>), [<CwnLemma: 夏_1>]),\n",
       " (('nearsynonym', <CwnSense[07032101]: 時間詞。一年四季中的第三季。>), [<CwnLemma: 秋_1>]),\n",
       " (('nearsynonym', <CwnSense[07032001]: 時間詞。一年四季中的第四季。>), [<CwnLemma: 冬_1>]),\n",
       " (('nearsynonym_of', <CwnSense[07032001]: 時間詞。一年四季中的第四季。>), [<CwnLemma: 冬_1>]),\n",
       " (('nearsynonym', <CwnSense[07029101]: 時間詞。一年四季中的第一季。>), [<CwnLemma: 春_1>]),\n",
       " (('nearsynonym_of', <CwnSense[07029101]: 時間詞。一年四季中的第一季。>), [<CwnLemma: 春_1>])]"
      ]
     },
     "execution_count": 6,
     "metadata": {},
     "output_type": "execute_result"
    }
   ],
   "source": [
    "[(x, x[1].lemmas) for x in spring1.senses[0].relations]"
   ]
  },
  {
   "cell_type": "code",
   "execution_count": 7,
   "metadata": {},
   "outputs": [],
   "source": [
    "sense1 = spring1.senses[0]"
   ]
  },
  {
   "cell_type": "code",
   "execution_count": 9,
   "metadata": {},
   "outputs": [
    {
     "data": {
      "text/plain": [
       "[]"
      ]
     },
     "execution_count": 9,
     "metadata": {},
     "output_type": "execute_result"
    }
   ],
   "source": [
    "cgu.find_lemma(\"四季\")"
   ]
  },
  {
   "cell_type": "code",
   "execution_count": null,
   "metadata": {},
   "outputs": [],
   "source": []
  }
 ],
 "metadata": {
  "kernelspec": {
   "display_name": "Python 3",
   "language": "python",
   "name": "python3"
  },
  "language_info": {
   "codemirror_mode": {
    "name": "ipython",
    "version": 3
   },
   "file_extension": ".py",
   "mimetype": "text/x-python",
   "name": "python",
   "nbconvert_exporter": "python",
   "pygments_lexer": "ipython3",
   "version": "3.7.2"
  }
 },
 "nbformat": 4,
 "nbformat_minor": 2
}
